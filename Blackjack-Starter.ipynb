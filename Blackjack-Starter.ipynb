{
 "cells": [
  {
   "cell_type": "markdown",
   "metadata": {},
   "source": [
    "## Python Blackjack\n",
    "For this project you will make a Blackjack game using Python. Click <a href=\"http://www.hitorstand.net/strategy.php\">here</a> to familiarize yourself with the the rules of the game. You won't be implementing every rule \"down to the letter\" with the game, but we will doing a simpler version of the game. This assignment will be given to further test your knowledge on object-oriented programming concepts.\n",
    "\n",
    "### Rules:\n",
    "\n",
    "`1. ` The game will have two players: the Dealer and the Player. The game will start off with a deck of 52 cards. The 52 cards will consist of 4 different suits: Clubs, Diamonds, Hearts and Spades. For each suit, there will be cards numbered 1 through 13. <br>\n",
    "**Note: No wildcards will be used in the program**\n",
    "\n",
    "`2. ` When the game begins, the dealer will shuffle the deck of cards, making them randomized. After the dealer shuffles, it will deal the player 2 cards and will deal itself 2 cards from. The Player should be able to see both of their own cards, but should only be able to see one of the Dealer's cards.\n",
    " \n",
    "`3. ` The objective of the game is for the Player to count their cards after they're dealt. If they're not satisfied with the number, they have the ability to 'Hit'. A hit allows the dealer to deal the Player one additional card. The Player can hit as many times as they'd like as long as they don't 'Bust'. A bust is when the Player is dealt cards that total more than 21.\n",
    "\n",
    "`4. ` If the dealer deals the Player cards equal to 21 on the **first** deal, the Player wins. This is referred to as Blackjack. Blackjack is **NOT** the same as getting cards that equal up to 21 after the first deal. Blackjack can only be attained on the first deal.\n",
    "\n",
    "`5. ` The Player will never see the Dealer's hand until the Player chooses to 'stand'. A Stand is when the player tells the dealer to not deal it anymore cards. Once the player chooses to Stand, the Player and the Dealer will compare their hands. Whoever has the higher number wins. Keep in mind that the Dealer can also bust. "
   ]
  },
  {
   "cell_type": "code",
   "execution_count": 21,
   "metadata": {
    "scrolled": true
   },
   "outputs": [],
   "source": [
    "from random import randint\n",
    "class Card:\n",
    "    def __init__(self, number, suit):\n",
    "        self.number=number\n",
    "        self.suit=suit\n",
    "    def __str__(self):\n",
    "        return f\"{self.number} of {self.suit}\"\n",
    "\n",
    "class Player:\n",
    "    def __init__(self):\n",
    "        self.hand=[]\n",
    "        self.stay=False\n",
    "    def hitme(self):\n",
    "        draw=deck.pop(deck[random.randint(0, len(deck)+1)])\n",
    "        self.hand.append(draw)\n",
    "        print(\"Current hand: \\n\")\n",
    "        self.view_hand\n",
    "    def view_hand(self):\n",
    "        for cards in self.hand:\n",
    "            print(cards)\n",
    "    def player_turn():\n",
    "        choice=input(\"Would you like to stay or hit?\")\n",
    "        if choice.lower=='stay':\n",
    "            self.stay=True\n",
    "        elif choice.lower=='hit':\n",
    "            self.hitme()\n",
    "        else:\n",
    "            choice=input(\"Would you like to stay or hit?\")\n",
    "class Dealer(Player):\n",
    "    def __init__(self):\n",
    "        self.hand=[]\n",
    "        self.stay=False\n",
    "    def hitme(self):\n",
    "        draw=deck.pop(deck[random.randint(0, len(deck)+1)])        \n",
    "        self.hand.append(draw)\n",
    "    def view_hand(self):\n",
    "        for cards in self.hand[1:]:\n",
    "            print(cards)\n",
    "    def turn(self):\n",
    "        for cards in self.hand:\n",
    "            if sum(cards.number)>=19:\n",
    "                self.stay=True\n",
    "            elif sum(cards.number)<=18:\n",
    "                self.hitme()\n",
    "def create_deck():\n",
    "    deck=[]\n",
    "    for c in range(1,13):\n",
    "        card=Card(c, 'clubs')\n",
    "        deck.append(card)\n",
    "    for c in range(1,13):\n",
    "        card=Card(c, 'hearts')\n",
    "        deck.append(card)\n",
    "    for c in range(1,13):\n",
    "        card=Card(c, 'diamonds')\n",
    "        deck.append(card)\n",
    "    for c in range(1,13):\n",
    "        card=Card(c, 'spades')\n",
    "        deck.append(card)"
   ]
  },
  {
   "cell_type": "code",
   "execution_count": 20,
   "metadata": {},
   "outputs": [],
   "source": [
    "\n",
    "def main():\n",
    "    p1=Player()\n",
    "    deal=Dealer()\n",
    "    create_deck()\n",
    "    p1.hitme()\n",
    "    p1.hitme()\n",
    "    p1.hitme()\n",
    "    deal.hitme()\n",
    "    deal.hitme()\n",
    "    deal.hitme()\n",
    "    for cards in p1.hand:\n",
    "        init_total=sum[cards.number]\n",
    "        if init_total==21:\n",
    "            print(\"Congratulations, you got Blackjack!\")\n",
    "            break\n",
    "    while True:\n",
    "        for cards in p1.hand:\n",
    "            if sum(cards.number)>21:\n",
    "                print(\"Oops! it seems you went bust. Dealer wins!\")\n",
    "        for cards in deal.hand:\n",
    "            if sum(cards.number)>21:\n",
    "                print(\"Dealer busts! You win!\")\n",
    "        print(\"Player\\'s hand:\\n'\")\n",
    "        p1.view_hand()\n",
    "        print(\"\\nDealer's hand:\\n\")\n",
    "        deal.view_hand()\n",
    "        p1.player_turn()\n",
    "        deal.turn()\n",
    "    if p1.stay==True and deal.stay==True:\n",
    "        for cards in p1.hand:\n",
    "            player_total=sum(cards.number)\n",
    "        for cards in deal.hand:\n",
    "            dealer_total=sum(cards.number)\n",
    "        if player_total>dealer_total:\n",
    "            print(\"Congratulations, you win!\")\n",
    "        else:\n",
    "            print('Dealer wins. Better luck next time!')\n",
    "        "
   ]
  },
  {
   "cell_type": "code",
   "execution_count": 22,
   "metadata": {},
   "outputs": [
    {
     "ename": "NameError",
     "evalue": "name 'deck' is not defined",
     "output_type": "error",
     "traceback": [
      "\u001b[1;31m---------------------------------------------------------------------------\u001b[0m",
      "\u001b[1;31mNameError\u001b[0m                                 Traceback (most recent call last)",
      "Cell \u001b[1;32mIn[22], line 1\u001b[0m\n\u001b[1;32m----> 1\u001b[0m main()\n",
      "Cell \u001b[1;32mIn[20], line 5\u001b[0m, in \u001b[0;36mmain\u001b[1;34m()\u001b[0m\n\u001b[0;32m      3\u001b[0m deal\u001b[38;5;241m=\u001b[39mDealer()\n\u001b[0;32m      4\u001b[0m create_deck()\n\u001b[1;32m----> 5\u001b[0m p1\u001b[38;5;241m.\u001b[39mhitme()\n\u001b[0;32m      6\u001b[0m p1\u001b[38;5;241m.\u001b[39mhitme()\n\u001b[0;32m      7\u001b[0m p1\u001b[38;5;241m.\u001b[39mhitme()\n",
      "Cell \u001b[1;32mIn[21], line 14\u001b[0m, in \u001b[0;36mPlayer.hitme\u001b[1;34m(self)\u001b[0m\n\u001b[0;32m     13\u001b[0m \u001b[38;5;28;01mdef\u001b[39;00m \u001b[38;5;21mhitme\u001b[39m(\u001b[38;5;28mself\u001b[39m):\n\u001b[1;32m---> 14\u001b[0m     draw\u001b[38;5;241m=\u001b[39mdeck\u001b[38;5;241m.\u001b[39mpop(deck[random\u001b[38;5;241m.\u001b[39mrandint(\u001b[38;5;241m0\u001b[39m, \u001b[38;5;28mlen\u001b[39m(deck)\u001b[38;5;241m+\u001b[39m\u001b[38;5;241m1\u001b[39m)])\n\u001b[0;32m     15\u001b[0m     \u001b[38;5;28mself\u001b[39m\u001b[38;5;241m.\u001b[39mhand\u001b[38;5;241m.\u001b[39mappend(draw)\n\u001b[0;32m     16\u001b[0m     \u001b[38;5;28mprint\u001b[39m(\u001b[38;5;124m\"\u001b[39m\u001b[38;5;124mCurrent hand: \u001b[39m\u001b[38;5;130;01m\\n\u001b[39;00m\u001b[38;5;124m\"\u001b[39m)\n",
      "\u001b[1;31mNameError\u001b[0m: name 'deck' is not defined"
     ]
    }
   ],
   "source": [
    "main()"
   ]
  }
 ],
 "metadata": {
  "kernelspec": {
   "display_name": "Python 3 (ipykernel)",
   "language": "python",
   "name": "python3"
  },
  "language_info": {
   "codemirror_mode": {
    "name": "ipython",
    "version": 3
   },
   "file_extension": ".py",
   "mimetype": "text/x-python",
   "name": "python",
   "nbconvert_exporter": "python",
   "pygments_lexer": "ipython3",
   "version": "3.11.4"
  }
 },
 "nbformat": 4,
 "nbformat_minor": 2
}
